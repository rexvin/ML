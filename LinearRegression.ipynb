{
 "cells": [
  {
   "cell_type": "code",
   "execution_count": 1,
   "metadata": {},
   "outputs": [],
   "source": [
    "import numpy as np\n",
    "import pandas as pd\n",
    "import matplotlib.pyplot as plt\n",
    "import statistics as st"
   ]
  },
  {
   "cell_type": "code",
   "execution_count": 2,
   "metadata": {},
   "outputs": [],
   "source": [
    "data = pd.read_csv('HousePrice.csv',header = None)"
   ]
  },
  {
   "cell_type": "code",
   "execution_count": 3,
   "metadata": {},
   "outputs": [
    {
     "name": "stdout",
     "output_type": "stream",
     "text": [
      "       0  1       2\n",
      "0   2104  3  399900\n",
      "1   1600  3  329900\n",
      "2   2400  3  369000\n",
      "3   1416  2  232000\n",
      "4   3000  4  539900\n",
      "5   1985  4  299900\n",
      "6   1534  3  314900\n",
      "7   1427  3  198999\n",
      "8   1380  3  212000\n",
      "9   1494  3  242500\n",
      "10  1940  4  239999\n",
      "11  2000  3  347000\n",
      "12  1890  3  329999\n",
      "13  4478  5  699900\n",
      "14  1268  3  259900\n",
      "15  2300  4  449900\n",
      "16  1320  2  299900\n",
      "17  1236  3  199900\n",
      "18  2609  4  499998\n",
      "19  3031  4  599000\n",
      "20  1767  3  252900\n",
      "21  1888  2  255000\n",
      "22  1604  3  242900\n",
      "23  1962  4  259900\n",
      "24  3890  3  573900\n",
      "25  1100  3  249900\n",
      "26  1458  3  464500\n",
      "27  2526  3  469000\n",
      "28  2200  3  475000\n",
      "29  2637  3  299900\n",
      "30  1839  2  349900\n",
      "31  1000  1  169900\n",
      "32  2040  4  314900\n",
      "33  3137  3  579900\n",
      "34  1811  4  285900\n",
      "35  1437  3  249900\n",
      "36  1239  3  229900\n",
      "37  2132  4  345000\n",
      "38  4215  4  549000\n",
      "39  2162  4  287000\n",
      "40  1664  2  368500\n",
      "41  2238  3  329900\n",
      "42  2567  4  314000\n",
      "43  1200  3  299000\n",
      "44   852  2  179900\n",
      "45  1852  4  299900\n",
      "46  1203  3  239500\n"
     ]
    }
   ],
   "source": [
    "print(data)"
   ]
  },
  {
   "cell_type": "code",
   "execution_count": 4,
   "metadata": {},
   "outputs": [
    {
     "name": "stdout",
     "output_type": "stream",
     "text": [
      "47\n"
     ]
    }
   ],
   "source": [
    "print(len(data))"
   ]
  },
  {
   "cell_type": "code",
   "execution_count": 5,
   "metadata": {},
   "outputs": [
    {
     "name": "stdout",
     "output_type": "stream",
     "text": [
      "(47, 3)\n"
     ]
    }
   ],
   "source": [
    "print(data.shape)"
   ]
  },
  {
   "cell_type": "code",
   "execution_count": 6,
   "metadata": {},
   "outputs": [
    {
     "name": "stdout",
     "output_type": "stream",
     "text": [
      "<class 'pandas.core.frame.DataFrame'>\n"
     ]
    }
   ],
   "source": [
    "print(type(data))"
   ]
  },
  {
   "cell_type": "code",
   "execution_count": 7,
   "metadata": {},
   "outputs": [
    {
     "data": {
      "text/html": [
       "<div>\n",
       "<style scoped>\n",
       "    .dataframe tbody tr th:only-of-type {\n",
       "        vertical-align: middle;\n",
       "    }\n",
       "\n",
       "    .dataframe tbody tr th {\n",
       "        vertical-align: top;\n",
       "    }\n",
       "\n",
       "    .dataframe thead th {\n",
       "        text-align: right;\n",
       "    }\n",
       "</style>\n",
       "<table border=\"1\" class=\"dataframe\">\n",
       "  <thead>\n",
       "    <tr style=\"text-align: right;\">\n",
       "      <th></th>\n",
       "      <th>0</th>\n",
       "      <th>1</th>\n",
       "      <th>2</th>\n",
       "    </tr>\n",
       "  </thead>\n",
       "  <tbody>\n",
       "    <tr>\n",
       "      <td>count</td>\n",
       "      <td>47.000000</td>\n",
       "      <td>47.000000</td>\n",
       "      <td>47.000000</td>\n",
       "    </tr>\n",
       "    <tr>\n",
       "      <td>mean</td>\n",
       "      <td>2000.680851</td>\n",
       "      <td>3.170213</td>\n",
       "      <td>340412.659574</td>\n",
       "    </tr>\n",
       "    <tr>\n",
       "      <td>std</td>\n",
       "      <td>794.702354</td>\n",
       "      <td>0.760982</td>\n",
       "      <td>125039.899586</td>\n",
       "    </tr>\n",
       "    <tr>\n",
       "      <td>min</td>\n",
       "      <td>852.000000</td>\n",
       "      <td>1.000000</td>\n",
       "      <td>169900.000000</td>\n",
       "    </tr>\n",
       "    <tr>\n",
       "      <td>25%</td>\n",
       "      <td>1432.000000</td>\n",
       "      <td>3.000000</td>\n",
       "      <td>249900.000000</td>\n",
       "    </tr>\n",
       "    <tr>\n",
       "      <td>50%</td>\n",
       "      <td>1888.000000</td>\n",
       "      <td>3.000000</td>\n",
       "      <td>299900.000000</td>\n",
       "    </tr>\n",
       "    <tr>\n",
       "      <td>75%</td>\n",
       "      <td>2269.000000</td>\n",
       "      <td>4.000000</td>\n",
       "      <td>384450.000000</td>\n",
       "    </tr>\n",
       "    <tr>\n",
       "      <td>max</td>\n",
       "      <td>4478.000000</td>\n",
       "      <td>5.000000</td>\n",
       "      <td>699900.000000</td>\n",
       "    </tr>\n",
       "  </tbody>\n",
       "</table>\n",
       "</div>"
      ],
      "text/plain": [
       "                 0          1              2\n",
       "count    47.000000  47.000000      47.000000\n",
       "mean   2000.680851   3.170213  340412.659574\n",
       "std     794.702354   0.760982  125039.899586\n",
       "min     852.000000   1.000000  169900.000000\n",
       "25%    1432.000000   3.000000  249900.000000\n",
       "50%    1888.000000   3.000000  299900.000000\n",
       "75%    2269.000000   4.000000  384450.000000\n",
       "max    4478.000000   5.000000  699900.000000"
      ]
     },
     "execution_count": 7,
     "metadata": {},
     "output_type": "execute_result"
    }
   ],
   "source": [
    "data.describe()"
   ]
  },
  {
   "cell_type": "code",
   "execution_count": 8,
   "metadata": {},
   "outputs": [],
   "source": [
    "data.columns=['Area','Rooms','Price']"
   ]
  },
  {
   "cell_type": "code",
   "execution_count": 9,
   "metadata": {},
   "outputs": [
    {
     "name": "stdout",
     "output_type": "stream",
     "text": [
      "    Area  Rooms   Price\n",
      "0   2104      3  399900\n",
      "1   1600      3  329900\n",
      "2   2400      3  369000\n",
      "3   1416      2  232000\n",
      "4   3000      4  539900\n",
      "5   1985      4  299900\n",
      "6   1534      3  314900\n",
      "7   1427      3  198999\n",
      "8   1380      3  212000\n",
      "9   1494      3  242500\n",
      "10  1940      4  239999\n",
      "11  2000      3  347000\n",
      "12  1890      3  329999\n",
      "13  4478      5  699900\n",
      "14  1268      3  259900\n",
      "15  2300      4  449900\n",
      "16  1320      2  299900\n",
      "17  1236      3  199900\n",
      "18  2609      4  499998\n",
      "19  3031      4  599000\n",
      "20  1767      3  252900\n",
      "21  1888      2  255000\n",
      "22  1604      3  242900\n",
      "23  1962      4  259900\n",
      "24  3890      3  573900\n",
      "25  1100      3  249900\n",
      "26  1458      3  464500\n",
      "27  2526      3  469000\n",
      "28  2200      3  475000\n",
      "29  2637      3  299900\n",
      "30  1839      2  349900\n",
      "31  1000      1  169900\n",
      "32  2040      4  314900\n",
      "33  3137      3  579900\n",
      "34  1811      4  285900\n",
      "35  1437      3  249900\n",
      "36  1239      3  229900\n",
      "37  2132      4  345000\n",
      "38  4215      4  549000\n",
      "39  2162      4  287000\n",
      "40  1664      2  368500\n",
      "41  2238      3  329900\n",
      "42  2567      4  314000\n",
      "43  1200      3  299000\n",
      "44   852      2  179900\n",
      "45  1852      4  299900\n",
      "46  1203      3  239500\n"
     ]
    }
   ],
   "source": [
    "print(data)"
   ]
  },
  {
   "cell_type": "code",
   "execution_count": 10,
   "metadata": {},
   "outputs": [
    {
     "data": {
      "text/html": [
       "<div>\n",
       "<style scoped>\n",
       "    .dataframe tbody tr th:only-of-type {\n",
       "        vertical-align: middle;\n",
       "    }\n",
       "\n",
       "    .dataframe tbody tr th {\n",
       "        vertical-align: top;\n",
       "    }\n",
       "\n",
       "    .dataframe thead th {\n",
       "        text-align: right;\n",
       "    }\n",
       "</style>\n",
       "<table border=\"1\" class=\"dataframe\">\n",
       "  <thead>\n",
       "    <tr style=\"text-align: right;\">\n",
       "      <th></th>\n",
       "      <th>Area</th>\n",
       "      <th>Rooms</th>\n",
       "      <th>Price</th>\n",
       "    </tr>\n",
       "  </thead>\n",
       "  <tbody>\n",
       "    <tr>\n",
       "      <td>count</td>\n",
       "      <td>47.000000</td>\n",
       "      <td>47.000000</td>\n",
       "      <td>47.000000</td>\n",
       "    </tr>\n",
       "    <tr>\n",
       "      <td>mean</td>\n",
       "      <td>2000.680851</td>\n",
       "      <td>3.170213</td>\n",
       "      <td>340412.659574</td>\n",
       "    </tr>\n",
       "    <tr>\n",
       "      <td>std</td>\n",
       "      <td>794.702354</td>\n",
       "      <td>0.760982</td>\n",
       "      <td>125039.899586</td>\n",
       "    </tr>\n",
       "    <tr>\n",
       "      <td>min</td>\n",
       "      <td>852.000000</td>\n",
       "      <td>1.000000</td>\n",
       "      <td>169900.000000</td>\n",
       "    </tr>\n",
       "    <tr>\n",
       "      <td>25%</td>\n",
       "      <td>1432.000000</td>\n",
       "      <td>3.000000</td>\n",
       "      <td>249900.000000</td>\n",
       "    </tr>\n",
       "    <tr>\n",
       "      <td>50%</td>\n",
       "      <td>1888.000000</td>\n",
       "      <td>3.000000</td>\n",
       "      <td>299900.000000</td>\n",
       "    </tr>\n",
       "    <tr>\n",
       "      <td>75%</td>\n",
       "      <td>2269.000000</td>\n",
       "      <td>4.000000</td>\n",
       "      <td>384450.000000</td>\n",
       "    </tr>\n",
       "    <tr>\n",
       "      <td>max</td>\n",
       "      <td>4478.000000</td>\n",
       "      <td>5.000000</td>\n",
       "      <td>699900.000000</td>\n",
       "    </tr>\n",
       "  </tbody>\n",
       "</table>\n",
       "</div>"
      ],
      "text/plain": [
       "              Area      Rooms          Price\n",
       "count    47.000000  47.000000      47.000000\n",
       "mean   2000.680851   3.170213  340412.659574\n",
       "std     794.702354   0.760982  125039.899586\n",
       "min     852.000000   1.000000  169900.000000\n",
       "25%    1432.000000   3.000000  249900.000000\n",
       "50%    1888.000000   3.000000  299900.000000\n",
       "75%    2269.000000   4.000000  384450.000000\n",
       "max    4478.000000   5.000000  699900.000000"
      ]
     },
     "execution_count": 10,
     "metadata": {},
     "output_type": "execute_result"
    }
   ],
   "source": [
    "data.describe()"
   ]
  },
  {
   "cell_type": "code",
   "execution_count": 11,
   "metadata": {},
   "outputs": [
    {
     "name": "stdout",
     "output_type": "stream",
     "text": [
      "0     2104\n",
      "1     1600\n",
      "2     2400\n",
      "3     1416\n",
      "4     3000\n",
      "5     1985\n",
      "6     1534\n",
      "7     1427\n",
      "8     1380\n",
      "9     1494\n",
      "10    1940\n",
      "11    2000\n",
      "12    1890\n",
      "13    4478\n",
      "14    1268\n",
      "15    2300\n",
      "16    1320\n",
      "17    1236\n",
      "18    2609\n",
      "19    3031\n",
      "20    1767\n",
      "21    1888\n",
      "22    1604\n",
      "23    1962\n",
      "24    3890\n",
      "25    1100\n",
      "26    1458\n",
      "27    2526\n",
      "28    2200\n",
      "29    2637\n",
      "30    1839\n",
      "31    1000\n",
      "32    2040\n",
      "33    3137\n",
      "34    1811\n",
      "35    1437\n",
      "36    1239\n",
      "37    2132\n",
      "38    4215\n",
      "39    2162\n",
      "40    1664\n",
      "41    2238\n",
      "42    2567\n",
      "43    1200\n",
      "44     852\n",
      "45    1852\n",
      "46    1203\n",
      "Name: Area, dtype: int64\n"
     ]
    }
   ],
   "source": [
    "print(data[\"Area\"])"
   ]
  },
  {
   "cell_type": "code",
   "execution_count": 12,
   "metadata": {},
   "outputs": [
    {
     "name": "stdout",
     "output_type": "stream",
     "text": [
      "    Area  Rooms   Price\n",
      "0   2104      3  399900\n",
      "1   1600      3  329900\n",
      "2   2400      3  369000\n",
      "3   1416      2  232000\n",
      "4   3000      4  539900\n",
      "5   1985      4  299900\n",
      "6   1534      3  314900\n",
      "7   1427      3  198999\n",
      "8   1380      3  212000\n",
      "9   1494      3  242500\n",
      "10  1940      4  239999\n",
      "11  2000      3  347000\n",
      "12  1890      3  329999\n",
      "13  4478      5  699900\n",
      "14  1268      3  259900\n",
      "15  2300      4  449900\n",
      "16  1320      2  299900\n",
      "17  1236      3  199900\n",
      "18  2609      4  499998\n",
      "19  3031      4  599000\n",
      "20  1767      3  252900\n",
      "21  1888      2  255000\n",
      "22  1604      3  242900\n",
      "23  1962      4  259900\n",
      "24  3890      3  573900\n",
      "25  1100      3  249900\n",
      "26  1458      3  464500\n",
      "27  2526      3  469000\n",
      "28  2200      3  475000\n",
      "29  2637      3  299900\n",
      "30  1839      2  349900\n",
      "31  1000      1  169900\n",
      "32  2040      4  314900\n",
      "33  3137      3  579900\n",
      "34  1811      4  285900\n",
      "35  1437      3  249900\n",
      "36  1239      3  229900\n",
      "37  2132      4  345000\n",
      "38  4215      4  549000\n",
      "39  2162      4  287000\n",
      "40  1664      2  368500\n",
      "41  2238      3  329900\n",
      "42  2567      4  314000\n",
      "43  1200      3  299000\n",
      "44   852      2  179900\n",
      "45  1852      4  299900\n",
      "46  1203      3  239500\n"
     ]
    }
   ],
   "source": [
    "print(data)"
   ]
  },
  {
   "cell_type": "code",
   "execution_count": 13,
   "metadata": {},
   "outputs": [],
   "source": [
    "X=data['Area'].values"
   ]
  },
  {
   "cell_type": "code",
   "execution_count": 14,
   "metadata": {},
   "outputs": [],
   "source": [
    "Y=data['Price'].values"
   ]
  },
  {
   "cell_type": "code",
   "execution_count": 15,
   "metadata": {},
   "outputs": [
    {
     "name": "stdout",
     "output_type": "stream",
     "text": [
      "[2104 1600 2400 1416 3000 1985 1534 1427 1380 1494 1940 2000 1890 4478\n",
      " 1268 2300 1320 1236 2609 3031 1767 1888 1604 1962 3890 1100 1458 2526\n",
      " 2200 2637 1839 1000 2040 3137 1811 1437 1239 2132 4215 2162 1664 2238\n",
      " 2567 1200  852 1852 1203]\n",
      "[399900 329900 369000 232000 539900 299900 314900 198999 212000 242500\n",
      " 239999 347000 329999 699900 259900 449900 299900 199900 499998 599000\n",
      " 252900 255000 242900 259900 573900 249900 464500 469000 475000 299900\n",
      " 349900 169900 314900 579900 285900 249900 229900 345000 549000 287000\n",
      " 368500 329900 314000 299000 179900 299900 239500]\n"
     ]
    }
   ],
   "source": [
    "print(X)\n",
    "print(Y)"
   ]
  },
  {
   "cell_type": "code",
   "execution_count": 16,
   "metadata": {},
   "outputs": [
    {
     "data": {
      "text/plain": [
       "[<matplotlib.lines.Line2D at 0x2824352a988>]"
      ]
     },
     "execution_count": 16,
     "metadata": {},
     "output_type": "execute_result"
    },
    {
     "data": {
      "image/png": "[encoded data removed]",
      "text/plain": [
       "<Figure size 432x288 with 1 Axes>"
      ]
     },
     "metadata": {
      "needs_background": "light"
     },
     "output_type": "display_data"
    }
   ],
   "source": [
    "plt.plot(X,Y)"
   ]
  },
  {
   "cell_type": "code",
   "execution_count": 17,
   "metadata": {},
   "outputs": [
    {
     "data": {
      "image/png": "[encoded data removed]",
      "text/plain": [
       "<Figure size 432x288 with 1 Axes>"
      ]
     },
     "metadata": {
      "needs_background": "light"
     },
     "output_type": "display_data"
    }
   ],
   "source": [
    "plt.plot(X,Y)\n",
    "plt.show()"
   ]
  },
  {
   "cell_type": "code",
   "execution_count": 18,
   "metadata": {},
   "outputs": [
    {
     "data": {
      "image/png": "[encoded data removed]",
      "text/plain": [
       "<Figure size 432x288 with 1 Axes>"
      ]
     },
     "metadata": {
      "needs_background": "light"
     },
     "output_type": "display_data"
    }
   ],
   "source": [
    "plt.scatter(X,Y)\n",
    "plt.show()"
   ]
  },
  {
   "cell_type": "code",
   "execution_count": 19,
   "metadata": {},
   "outputs": [
    {
     "data": {
      "image/png": "[encoded data removed]",
      "text/plain": [
       "<Figure size 432x288 with 1 Axes>"
      ]
     },
     "metadata": {
      "needs_background": "light"
     },
     "output_type": "display_data"
    }
   ],
   "source": [
    "plt.scatter(X,Y,color='red',marker='^')\n",
    "plt.show()"
   ]
  },
  {
   "cell_type": "code",
   "execution_count": 20,
   "metadata": {},
   "outputs": [
    {
     "name": "stdout",
     "output_type": "stream",
     "text": [
      "[2104 1600 2400 1416 3000 1985 1534 1427 1380 1494 1940 2000 1890 4478\n",
      " 1268 2300 1320 1236 2609 3031 1767 1888 1604 1962 3890 1100 1458 2526\n",
      " 2200 2637 1839 1000 2040 3137 1811 1437 1239 2132 4215 2162 1664 2238\n",
      " 2567 1200  852 1852 1203]\n"
     ]
    }
   ],
   "source": [
    "print(X)"
   ]
  },
  {
   "cell_type": "code",
   "execution_count": 21,
   "metadata": {},
   "outputs": [
    {
     "name": "stdout",
     "output_type": "stream",
     "text": [
      "94032\n",
      "29051384.212765954\n",
      "var= 618114.5577184246\n"
     ]
    }
   ],
   "source": [
    "sum=0\n",
    "for i in range(len(X)):\n",
    "    sum = sum+X[i]\n",
    "mean=sum/len(X)\n",
    "s=0\n",
    "for i in range(len(X)):\n",
    "    s=s+ ((X[i]-mean)**2)\n",
    "print(sum)\n",
    "print(s)\n",
    "v4=s/len(X)\n",
    "print(\"var=\",v4)\n"
   ]
  },
  {
   "cell_type": "code",
   "execution_count": 22,
   "metadata": {},
   "outputs": [
    {
     "name": "stdout",
     "output_type": "stream",
     "text": [
      "618114.5577184246\n"
     ]
    }
   ],
   "source": [
    "print(np.var(X))"
   ]
  },
  {
   "cell_type": "code",
   "execution_count": 23,
   "metadata": {},
   "outputs": [
    {
     "name": "stdout",
     "output_type": "stream",
     "text": [
      "covar= 83152038.7211408\n"
     ]
    }
   ],
   "source": [
    "sum=0\n",
    "for i in range(len(X)):\n",
    "    sum = sum+X[i]\n",
    "mean=sum/len(X)\n",
    "sumy=0\n",
    "for i in range(len(Y)):\n",
    "    sumy = sumy+Y[i]\n",
    "meany=sumy/len(Y)\n",
    "s=0\n",
    "for i in range(len(X)):\n",
    "    s=s+ ((X[i]-mean)*(Y[i]-meany))\n",
    "v11=s/len(X)\n",
    "print(\"covar=\",v11)"
   ]
  },
  {
   "cell_type": "code",
   "execution_count": 24,
   "metadata": {},
   "outputs": [
    {
     "name": "stdout",
     "output_type": "stream",
     "text": [
      "83152038.7211408\n"
     ]
    }
   ],
   "source": [
    "print(np.cov(X,Y,bias=True)[0,1])"
   ]
  },
  {
   "cell_type": "code",
   "execution_count": 25,
   "metadata": {},
   "outputs": [
    {
     "name": "stdout",
     "output_type": "stream",
     "text": [
      "134.52528772024135\n"
     ]
    }
   ],
   "source": [
    "B1=v11/v4\n",
    "print(B1)"
   ]
  },
  {
   "cell_type": "code",
   "execution_count": 26,
   "metadata": {},
   "outputs": [
    {
     "name": "stdout",
     "output_type": "stream",
     "text": [
      "71270.49244872906\n"
     ]
    }
   ],
   "source": [
    "B0=meany-(B1*mean)\n",
    "print(B0)"
   ]
  },
  {
   "cell_type": "code",
   "execution_count": 27,
   "metadata": {},
   "outputs": [
    {
     "name": "stdout",
     "output_type": "stream",
     "text": [
      "[149953250.63741365, 114032922.4432542, 171049316.40223745, 100919151.83268806, 213811611.8714749, 141472062.03601488, 109329069.94163808, 101703127.24962407, 98353414.10453382, 106478250.24368893, 138264889.8758221, 142541119.42274582, 134701365.25338563, 319149399.71069646, 90371118.95027617, 163922267.15736455, 94077184.55761006, 88090463.19191682, 185944849.32402182, 216020997.1373855, 125935094.68219195, 134558824.26848817, 114318004.41304912, 139832840.70969412, 277242350.1508438, 78397676.21888968, 103912512.51553468, 180029398.45077732, 156795217.91249165, 187940423.11258623, 131066570.13850045, 71270626.97401677, 145391939.120695, 223575669.33695078, 129070996.34993604, 102415832.17411137, 88304274.66926302, 151948824.42597806, 300405260.1966807, 154086939.19943994, 118594233.95997286, 159503496.62554336, 182951488.6411752, 85524725.46376258, 60722594.09160487, 131993086.54033393, 85738536.94110878]\n"
     ]
    }
   ],
   "source": [
    "yp=[0]*47\n",
    "for i in range(0,47):\n",
    "    yp[i]=B1+(B0*X[i])\n",
    "print(yp)"
   ]
  },
  {
   "cell_type": "code",
   "execution_count": 28,
   "metadata": {},
   "outputs": [
    {
     "name": "stdout",
     "output_type": "stream",
     "text": [
      "1.0980473227920788e+18\n"
     ]
    }
   ],
   "source": [
    "ssr=0\n",
    "for i in range(0,47):\n",
    "    ssr=ssr+(yp[i]-Y[i])**2\n",
    "print(ssr)"
   ]
  },
  {
   "cell_type": "code",
   "execution_count": 29,
   "metadata": {},
   "outputs": [
    {
     "name": "stdout",
     "output_type": "stream",
     "text": [
      "719208918474.553\n"
     ]
    }
   ],
   "source": [
    "sst=0\n",
    "for i in range(0,47):\n",
    "    sst=sst+(Y[i]-meany)**2\n",
    "print(sst)"
   ]
  },
  {
   "cell_type": "code",
   "execution_count": 30,
   "metadata": {},
   "outputs": [
    {
     "name": "stdout",
     "output_type": "stream",
     "text": [
      "-1526742.1960118692\n"
     ]
    }
   ],
   "source": [
    "r2=1-ssr/sst\n",
    "print(r2)"
   ]
  },
  {
   "cell_type": "code",
   "execution_count": 31,
   "metadata": {},
   "outputs": [],
   "source": [
    "from sklearn.linear_model import LinearRegression\n",
    "from sklearn.metrics import mean_squared_error"
   ]
  },
  {
   "cell_type": "code",
   "execution_count": 32,
   "metadata": {},
   "outputs": [
    {
     "name": "stdout",
     "output_type": "stream",
     "text": [
      "47\n"
     ]
    }
   ],
   "source": [
    "m=len(X)\n",
    "print(m)"
   ]
  },
  {
   "cell_type": "code",
   "execution_count": 33,
   "metadata": {},
   "outputs": [
    {
     "name": "stdout",
     "output_type": "stream",
     "text": [
      "(47,)\n"
     ]
    }
   ],
   "source": [
    "print( X.shape)"
   ]
  },
  {
   "cell_type": "code",
   "execution_count": 34,
   "metadata": {},
   "outputs": [
    {
     "name": "stdout",
     "output_type": "stream",
     "text": [
      "(47, 1)\n"
     ]
    }
   ],
   "source": [
    "x1=X.reshape(m,1)\n",
    "print(x1.shape)"
   ]
  },
  {
   "cell_type": "code",
   "execution_count": 35,
   "metadata": {},
   "outputs": [],
   "source": [
    "reg=LinearRegression()\n",
    "model=reg.fit(x1,Y)"
   ]
  },
  {
   "cell_type": "code",
   "execution_count": 36,
   "metadata": {},
   "outputs": [
    {
     "data": {
      "text/plain": [
       "71270.49244872911"
      ]
     },
     "execution_count": 36,
     "metadata": {},
     "output_type": "execute_result"
    }
   ],
   "source": [
    "model.intercept_"
   ]
  },
  {
   "cell_type": "markdown",
   "metadata": {},
   "source": []
  },
  {
   "cell_type": "code",
   "execution_count": 37,
   "metadata": {},
   "outputs": [
    {
     "name": "stdout",
     "output_type": "stream",
     "text": [
      "[354311.69781212 286510.95280112 394131.18297731 261758.29986059\n",
      " 474846.35560945 338303.18857341 277632.28381158 263238.07802551\n",
      " 256915.38950266 272251.27230277 332249.550626   340321.06788921\n",
      " 325523.28623999 673674.73085997 241848.557278   380678.65420528\n",
      " 248843.87223945 237543.74807095 422246.96811084 479016.63952878\n",
      " 308976.6758504  325254.23566454 287049.053952   335209.10695584\n",
      " 594573.86168047 219248.30894099 267408.36194484 411081.36923006\n",
      " 367226.12543326 426013.67616701 318662.49656625 205795.78016897\n",
      " 345702.07939802 493276.32002713 314895.78851009 264583.33090272\n",
      " 237947.32393411 358078.40586828 638294.58018955 362114.16449989\n",
      " 295120.57121521 372338.08636663 416596.90602659 232700.83771302\n",
      " 185886.03758637 320411.32530662 233104.41357618]\n"
     ]
    }
   ],
   "source": [
    "Y_predict=model.predict(x1)\n",
    "print(Y_predict)"
   ]
  },
  {
   "cell_type": "code",
   "execution_count": 38,
   "metadata": {},
   "outputs": [
    {
     "name": "stdout",
     "output_type": "stream",
     "text": [
      "0.7310037839755306\n"
     ]
    }
   ],
   "source": [
    "rsquare=model.score(x1,Y)\n",
    "print(rsquare)"
   ]
  },
  {
   "cell_type": "code",
   "execution_count": 39,
   "metadata": {},
   "outputs": [
    {
     "name": "stdout",
     "output_type": "stream",
     "text": [
      "4116265480.866083\n"
     ]
    }
   ],
   "source": [
    "rms=mean_squared_error(Y_predict,Y)\n",
    "print(rms)"
   ]
  },
  {
   "cell_type": "code",
   "execution_count": 40,
   "metadata": {},
   "outputs": [
    {
     "name": "stdout",
     "output_type": "stream",
     "text": [
      "64158.12872010906\n"
     ]
    }
   ],
   "source": [
    "print(np.sqrt(rms))"
   ]
  },
  {
   "cell_type": "code",
   "execution_count": null,
   "metadata": {},
   "outputs": [],
   "source": []
  }
 ],
 "metadata": {
  "kernelspec": {
   "display_name": "Python 3",
   "language": "python",
   "name": "python3"
  },
  "language_info": {
   "codemirror_mode": {
    "name": "ipython",
    "version": 3
   },
   "file_extension": ".py",
   "mimetype": "text/x-python",
   "name": "python",
   "nbconvert_exporter": "python",
   "pygments_lexer": "ipython3",
   "version": "3.7.4"
  }
 },
 "nbformat": 4,
 "nbformat_minor": 2
}
